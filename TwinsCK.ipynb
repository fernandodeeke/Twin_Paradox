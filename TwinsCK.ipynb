{
  "cells": [
    {
      "cell_type": "markdown",
      "metadata": {
        "id": "view-in-github",
        "colab_type": "text"
      },
      "source": [
        "<a href=\"https://colab.research.google.com/github/fernandodeeke/Twin_Paradox/blob/main/TwinsCK.ipynb\" target=\"_parent\"><img src=\"https://colab.research.google.com/assets/colab-badge.svg\" alt=\"Open In Colab\"/></a>"
      ]
    },
    {
      "cell_type": "code",
      "execution_count": null,
      "id": "4a576180",
      "metadata": {
        "colab": {
          "referenced_widgets": [
            "ef16b49a680f4dbcaac9e530831f3f5e"
          ]
        },
        "id": "4a576180",
        "outputId": "1911036b-55ff-414d-b183-153fcdb8d518"
      },
      "outputs": [
        {
          "data": {
            "application/vnd.jupyter.widget-view+json": {
              "model_id": "ef16b49a680f4dbcaac9e530831f3f5e",
              "version_major": 2,
              "version_minor": 0
            },
            "text/plain": [
              "interactive(children=(FloatText(value=5.0, description='r_C/M (initial)'), FloatText(value=10.0, description='…"
            ]
          },
          "metadata": {},
          "output_type": "display_data"
        }
      ],
      "source": [
        "# Observers C and K\n",
        "\n",
        "import numpy as np\n",
        "import matplotlib.pyplot as plt\n",
        "from numpy import sqrt\n",
        "import ipywidgets as widgets\n",
        "from ipywidgets import interact\n",
        "\n",
        "# Define the function for CK\n",
        "def RCK_f_CK(r_CK):\n",
        "    return np.sqrt(((1 - 3 / r_CK) / (1 - 2 / r_CK)))\n",
        "\n",
        "# Function to update the CK plot\n",
        "def update_CK(r_C_i_CK, r_C_f_CK):\n",
        "    r_C_values_CK = np.linspace(r_C_i_CK, r_C_f_CK, 100)\n",
        "    RCK_CK = RCK_f_CK(r_C_values_CK)\n",
        "\n",
        "    plt.figure(figsize=(8, 6))\n",
        "    plt.plot(r_C_values_CK, RCK_CK)\n",
        "    plt.ylim(0, 1)\n",
        "    plt.xlabel(r'$\\frac{r_{\\mathcal{C}}}{M}$', fontsize=15)\n",
        "    plt.ylabel(r'$\\frac{\\Delta \\tau_{\\mathcal{C}}}{\\Delta \\tau_{\\mathcal{K}}}$', fontsize=15)\n",
        "    plt.grid(True)\n",
        "    plt.show()\n",
        "\n",
        "# Creating interactive widgets for input\n",
        "r_C_i_slider = widgets.FloatText(value=5.0, description='r_C/M (initial)')\n",
        "r_C_f_slider = widgets.FloatText(value=10.0, description='r_C/M (final)')\n",
        "\n",
        "# Linking sliders to the update function\n",
        "interactive_plot_ck = interact(update_CK, r_C_i_CK=r_C_i_slider, r_C_f_CK=r_C_f_slider)\n"
      ]
    },
    {
      "cell_type": "code",
      "execution_count": null,
      "id": "49694ae5",
      "metadata": {
        "id": "49694ae5"
      },
      "outputs": [],
      "source": []
    }
  ],
  "metadata": {
    "kernelspec": {
      "display_name": "Python 3 (ipykernel)",
      "language": "python",
      "name": "python3"
    },
    "language_info": {
      "codemirror_mode": {
        "name": "ipython",
        "version": 3
      },
      "file_extension": ".py",
      "mimetype": "text/x-python",
      "name": "python",
      "nbconvert_exporter": "python",
      "pygments_lexer": "ipython3",
      "version": "3.9.13"
    },
    "colab": {
      "provenance": [],
      "include_colab_link": true
    }
  },
  "nbformat": 4,
  "nbformat_minor": 5
}