{
  "cells": [
    {
      "cell_type": "markdown",
      "metadata": {
        "id": "view-in-github",
        "colab_type": "text"
      },
      "source": [
        "<a href=\"https://colab.research.google.com/github/fernandodeeke/Twin_Paradox/blob/main/TwinsDC.ipynb\" target=\"_parent\"><img src=\"https://colab.research.google.com/assets/colab-badge.svg\" alt=\"Open In Colab\"/></a>"
      ]
    },
    {
      "cell_type": "code",
      "execution_count": null,
      "id": "12d33efb",
      "metadata": {
        "id": "12d33efb",
        "outputId": "73b4acc0-46be-4290-f890-ea6437b263a8",
        "colab": {
          "referenced_widgets": [
            "e2a40e441750420684726da57d718a20"
          ]
        }
      },
      "outputs": [
        {
          "data": {
            "application/vnd.jupyter.widget-view+json": {
              "model_id": "e2a40e441750420684726da57d718a20",
              "version_major": 2,
              "version_minor": 0
            },
            "text/plain": [
              "interactive(children=(FloatText(value=3.01, description='r_C/M (initial)'), FloatText(value=7.0, description='…"
            ]
          },
          "metadata": {},
          "output_type": "display_data"
        }
      ],
      "source": [
        "# Observers D and C\n",
        "\n",
        "import numpy as np\n",
        "import matplotlib.pyplot as plt\n",
        "from numpy import sqrt, arccos, log, tan, sin, arcsin, pi, isclose\n",
        "from scipy.optimize import fsolve\n",
        "import ipywidgets as widgets\n",
        "from ipywidgets import interact\n",
        "\n",
        "# Functions for DC\n",
        "def F1A_DC(r_B_DC, r_C_value_DC, M_DC):\n",
        "    E_DC = sqrt(1 - 2 * M_DC / r_C_value_DC)\n",
        "    n_DC = arccos(2 * r_B_DC / r_C_value_DC - 1)\n",
        "    return (1 / 2) * (n_DC + sin(n_DC)) + n_DC * (1 - E_DC**2)\n",
        "\n",
        "def F2A_DC(r_B_DC, r_C_value_DC, M_DC):\n",
        "    E_DC = sqrt(1 - 2 * M_DC / r_C_value_DC)\n",
        "    nh_DC = 2 * arcsin(E_DC)\n",
        "    n_DC = arccos(2 * r_B_DC / r_C_value_DC - 1)\n",
        "    return log((tan(nh_DC / 2) + tan(n_DC / 2)) / (tan(nh_DC / 2) - tan(n_DC / 2)))\n",
        "\n",
        "def equacao_DC(r_B_DC, r_C_value_DC, M_DC):\n",
        "    E_DC = sqrt(1 - 2 * M_DC / r_C_value_DC)\n",
        "    F1_DC = F1A_DC(r_B_DC, r_C_value_DC, M_DC)\n",
        "    F2_DC = F2A_DC(r_B_DC, r_C_value_DC, M_DC)\n",
        "    return 2 * E_DC * sqrt(r_C_value_DC**3 / (2 * M_DC)) * F1_DC + 4 * M_DC * F2_DC - 2 * pi * sqrt(r_C_value_DC**3 / M_DC)\n",
        "\n",
        "def tau_D_DC(r_C_DC, r_B_DC, M_DC):\n",
        "    n_B_DC = arccos(2 * r_B_DC / r_C_DC - 1)\n",
        "    return sqrt(r_C_DC**3 / (2 * M_DC)) * (n_B_DC + sin(n_B_DC))\n",
        "\n",
        "def tau_C_DC(r_C_DC, M_DC):\n",
        "    # Handle cases where r_C_DC approaches problematic values\n",
        "    mask = np.where(r_C_DC > 3, 1, np.inf)\n",
        "    E_DC = np.where(r_C_DC > 3, (1 - 2 * M_DC / r_C_DC) / sqrt(1 - 3 * M_DC / r_C_DC), np.inf)\n",
        "    return (1 - 2 * M_DC / r_C_DC) * (2 * pi * sqrt(r_C_DC**3 / M_DC)) / E_DC * mask\n",
        "\n",
        "def RDC_f_DC(r_S_DC, r_C_DC, r_B_DC, M_DC):\n",
        "    tau_C = tau_C_DC(r_C_DC, M_DC)\n",
        "    tau_D = tau_D_DC(r_C_DC, r_B_DC, M_DC)\n",
        "\n",
        "    # Avoid division by inf\n",
        "    return np.where(tau_C == np.inf, np.inf, tau_D / tau_C)\n",
        "\n",
        "# Function to update the DC plot\n",
        "def update_DC(r_C_i_DC, r_C_f_DC):\n",
        "    M_DC = 1\n",
        "    r_C_values_DC = np.linspace(r_C_i_DC, r_C_f_DC, 100)\n",
        "\n",
        "    # Calculate corresponding r_B values\n",
        "    r_B_values_DC = []\n",
        "    for r_C_value_DC in r_C_values_DC:\n",
        "        raiz_DC = fsolve(equacao_DC, 2 + 1e-10, args=(r_C_value_DC, M_DC))\n",
        "        r_B_values_DC.append(raiz_DC[0])\n",
        "    r_B_values_DC = np.array(r_B_values_DC)\n",
        "\n",
        "    r_S_values_DC = r_C_values_DC\n",
        "    RDC_init_DC = RDC_f_DC(r_S_values_DC, r_C_values_DC, r_B_values_DC, M_DC)\n",
        "\n",
        "    # Plotting\n",
        "    plt.figure(figsize=(8, 6))\n",
        "    plt.plot(r_C_values_DC, RDC_init_DC, label=r'$\\frac{\\Delta \\tau_{\\mathcal{D}} }{\\Delta \\tau_{\\mathcal{C}}}$')\n",
        "    plt.xlabel(r'$\\frac{r_{\\mathcal{C}}}{M}$', fontsize=15)\n",
        "    plt.ylabel(r'$\\frac{\\Delta \\tau_{\\mathcal{D}} }{\\Delta \\tau_{\\mathcal{C}}}$', fontsize=15)\n",
        "    plt.grid(True)\n",
        "    plt.legend()\n",
        "    plt.show()\n",
        "\n",
        "# Creating interactive widgets for input\n",
        "r_C_i_slider_dc = widgets.FloatText(value=3.01, description='r_C/M (initial)')\n",
        "r_C_f_slider_dc = widgets.FloatText(value=7.0, description='r_C/M (final)')\n",
        "\n",
        "# Linking sliders to the update function\n",
        "interactive_plot_dc = interact(update_DC, r_C_i_DC=r_C_i_slider_dc, r_C_f_DC=r_C_f_slider_dc)\n"
      ]
    },
    {
      "cell_type": "code",
      "execution_count": null,
      "id": "0c7f7e53",
      "metadata": {
        "id": "0c7f7e53"
      },
      "outputs": [],
      "source": []
    }
  ],
  "metadata": {
    "kernelspec": {
      "display_name": "Python 3 (ipykernel)",
      "language": "python",
      "name": "python3"
    },
    "language_info": {
      "codemirror_mode": {
        "name": "ipython",
        "version": 3
      },
      "file_extension": ".py",
      "mimetype": "text/x-python",
      "name": "python",
      "nbconvert_exporter": "python",
      "pygments_lexer": "ipython3",
      "version": "3.9.13"
    },
    "colab": {
      "provenance": [],
      "include_colab_link": true
    }
  },
  "nbformat": 4,
  "nbformat_minor": 5
}