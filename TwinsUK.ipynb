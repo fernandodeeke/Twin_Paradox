{
  "cells": [
    {
      "cell_type": "markdown",
      "metadata": {
        "id": "view-in-github",
        "colab_type": "text"
      },
      "source": [
        "<a href=\"https://colab.research.google.com/github/fernandodeeke/Twin_Paradox/blob/main/TwinsUK.ipynb\" target=\"_parent\"><img src=\"https://colab.research.google.com/assets/colab-badge.svg\" alt=\"Open In Colab\"/></a>"
      ]
    },
    {
      "cell_type": "code",
      "execution_count": null,
      "id": "117a871d",
      "metadata": {
        "colab": {
          "referenced_widgets": [
            "78a6a394a5ce4127b0cebf51b345637b"
          ]
        },
        "id": "117a871d",
        "outputId": "110488e9-bf93-4ba8-e32b-e35c28bcff43"
      },
      "outputs": [
        {
          "data": {
            "application/vnd.jupyter.widget-view+json": {
              "model_id": "78a6a394a5ce4127b0cebf51b345637b",
              "version_major": 2,
              "version_minor": 0
            },
            "text/plain": [
              "interactive(children=(FloatSlider(value=2.3, description='r_S/M:', max=10.0, min=2.1), FloatSlider(value=3.0, …"
            ]
          },
          "metadata": {},
          "output_type": "display_data"
        }
      ],
      "source": [
        "# Observers U and K\n",
        "\n",
        "import numpy as np\n",
        "import matplotlib.pyplot as plt\n",
        "from ipywidgets import interact, FloatSlider, VBox, HBox, Label\n",
        "from scipy.optimize import fsolve\n",
        "\n",
        "# Define the functions for proper times\n",
        "def tau_U_UK(r_S_UK, r_H_UK, M_UK):\n",
        "    n_S_UK = np.arccos(2 * r_S_UK / r_H_UK - 1)\n",
        "    return np.sqrt(r_H_UK**3 / (2 * M_UK)) * (n_S_UK + np.sin(n_S_UK))\n",
        "\n",
        "def tau_K_UK(r_S_UK, r_H_UK, M_UK):\n",
        "    n_S_UK = np.arccos(2 * r_S_UK / r_H_UK - 1)\n",
        "    E_H_UK = np.sqrt(1 - 2 * M_UK / r_H_UK)\n",
        "    nh_UK = 2 * np.arcsin(E_H_UK)\n",
        "    F_1_UK = (1/2) * (n_S_UK + np.sin(n_S_UK)) + n_S_UK * (1 - E_H_UK**2)\n",
        "    F_2_UK = np.log((np.tan(nh_UK / 2) + np.tan(n_S_UK / 2)) / (np.tan(nh_UK / 2) - np.tan(n_S_UK / 2)))\n",
        "    t_UK = 2 * E_H_UK * np.sqrt((r_H_UK**3 / (2 * M_UK))) * F_1_UK + 4 * M_UK * F_2_UK\n",
        "    return np.sqrt(1 - 2 * M_UK / r_S_UK) * t_UK\n",
        "\n",
        "def RUK_f_UK(r_S_UK, r_H_UK, M_UK):\n",
        "    return tau_U_UK(r_S_UK, r_H_UK, M_UK) / tau_K_UK(r_S_UK, r_H_UK, M_UK)\n",
        "\n",
        "# Define the plot and update functions\n",
        "def update_plot(r_S_UK=2.3, r_H_UK_min=4, r_H_UK_max=10):\n",
        "    M_UK = 1\n",
        "    r_H_values_UK = np.linspace(r_H_UK_min, r_H_UK_max, 100)\n",
        "    RUK_UK = RUK_f_UK(r_S_UK, r_H_values_UK, M_UK)\n",
        "\n",
        "    plt.figure(figsize=(8, 6))\n",
        "    plt.plot(r_H_values_UK, RUK_UK,\n",
        "             label=f'$\\\\frac{{\\\\Delta \\\\tau_{{\\\\mathcal{{U}}}} }}{{\\\\Delta \\\\tau_{{\\\\mathcal{{K}}}}}}$ for $r_S/M={r_S_UK}$')\n",
        "    plt.xlabel('$r_H/M$', size=12)\n",
        "    plt.ylabel('$\\\\frac{\\\\Delta \\\\tau_{\\\\mathcal{U}} }{\\\\Delta \\\\tau_{\\\\mathcal{K}}}$', rotation='horizontal', size=12, labelpad=40)\n",
        "    plt.title(\"Proper Time Ratios for Observers U and K\")\n",
        "    plt.grid(True)\n",
        "    plt.show()\n",
        "\n",
        "# Create sliders for interactive control\n",
        "r_S_UK_slider = FloatSlider(value=2.3, min=2.1, max=10, step=0.1, description='r_S/M:')\n",
        "r_H_UK_min_slider = FloatSlider(value=3, min=3, max=8, step=0.1, description='r_H/M (min):')\n",
        "r_H_UK_max_slider = FloatSlider(value=8, min=3, max=12, step=0.1, description='r_H/M (max):')\n",
        "\n",
        "# Use interact to create interactive widgets\n",
        "ui = VBox([HBox([r_S_UK_slider]),\n",
        "           HBox([r_H_UK_min_slider, r_H_UK_max_slider])])\n",
        "out = interact(update_plot, r_S_UK=r_S_UK_slider, r_H_UK_min=r_H_UK_min_slider, r_H_UK_max=r_H_UK_max_slider)\n"
      ]
    },
    {
      "cell_type": "code",
      "execution_count": null,
      "id": "9f650351",
      "metadata": {
        "id": "9f650351"
      },
      "outputs": [],
      "source": []
    }
  ],
  "metadata": {
    "kernelspec": {
      "display_name": "Python 3 (ipykernel)",
      "language": "python",
      "name": "python3"
    },
    "language_info": {
      "codemirror_mode": {
        "name": "ipython",
        "version": 3
      },
      "file_extension": ".py",
      "mimetype": "text/x-python",
      "name": "python",
      "nbconvert_exporter": "python",
      "pygments_lexer": "ipython3",
      "version": "3.9.13"
    },
    "colab": {
      "provenance": [],
      "include_colab_link": true
    }
  },
  "nbformat": 4,
  "nbformat_minor": 5
}