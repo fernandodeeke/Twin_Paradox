{
  "cells": [
    {
      "cell_type": "markdown",
      "metadata": {
        "id": "view-in-github",
        "colab_type": "text"
      },
      "source": [
        "<a href=\"https://colab.research.google.com/github/fernandodeeke/Twin_Paradox/blob/main/TwinsUC.ipynb\" target=\"_parent\"><img src=\"https://colab.research.google.com/assets/colab-badge.svg\" alt=\"Open In Colab\"/></a>"
      ]
    },
    {
      "cell_type": "code",
      "execution_count": null,
      "id": "da2d90d2",
      "metadata": {
        "id": "da2d90d2",
        "outputId": "75c6fe89-28e0-4b84-b253-c77264feeb37",
        "colab": {
          "referenced_widgets": [
            "45aa328517c64dbfa58dbfb6abef4084"
          ]
        }
      },
      "outputs": [
        {
          "data": {
            "application/vnd.jupyter.widget-view+json": {
              "model_id": "45aa328517c64dbfa58dbfb6abef4084",
              "version_major": 2,
              "version_minor": 0
            },
            "text/plain": [
              "interactive(children=(FloatText(value=3.0, description='r_C/M (initial)'), FloatText(value=30.0, description='…"
            ]
          },
          "metadata": {},
          "output_type": "display_data"
        }
      ],
      "source": [
        "# Observers U and C\n",
        "\n",
        "import numpy as np\n",
        "import matplotlib.pyplot as plt\n",
        "from numpy import sqrt, arccos, log, tan, sin, arcsin, pi, isclose\n",
        "from scipy.optimize import fsolve\n",
        "import ipywidgets as widgets\n",
        "from ipywidgets import interact\n",
        "\n",
        "# Functions for UC\n",
        "def F1A_UC(r_H_UC, r_C_value_UC, M_UC):\n",
        "    E_UC = sqrt(1 - 2 * M_UC / r_H_UC)\n",
        "    n_UC = arccos(2 * r_C_value_UC / r_H_UC - 1)\n",
        "    return (1 / 2) * (n_UC + sin(n_UC)) + n_UC * (1 - E_UC**2)\n",
        "\n",
        "def F2A_UC(r_H_UC, r_C_value_UC, M_UC):\n",
        "    E_UC = sqrt(1 - 2 * M_UC / r_H_UC)\n",
        "    nh_UC = 2 * arcsin(E_UC)\n",
        "    n_UC = arccos(2 * r_C_value_UC / r_H_UC - 1)\n",
        "    return log((tan(nh_UC / 2) + tan(n_UC / 2)) / (tan(nh_UC / 2) - tan(n_UC / 2)))\n",
        "\n",
        "def equacao_UC(r_H_UC, r_C_value_UC, M_UC):\n",
        "    E_UC = sqrt(1 - 2 * M_UC / r_H_UC)\n",
        "    F1_UC = F1A_UC(r_H_UC, r_C_value_UC, M_UC)\n",
        "    F2_UC = F2A_UC(r_H_UC, r_C_value_UC, M_UC)\n",
        "    return 2 * E_UC * sqrt(r_H_UC**3 / (2 * M_UC)) * F1_UC + 4 * M_UC * F2_UC - 2 * pi * sqrt(r_C_value_UC**3 / M_UC)\n",
        "\n",
        "def tau_U_UC(r_S_UC, r_H_UC, M_UC):\n",
        "    n_S_UC = arccos(2 * r_S_UC / r_H_UC - 1)\n",
        "    return sqrt(r_H_UC**3 / (2 * M_UC)) * (n_S_UC + sin(n_S_UC))\n",
        "\n",
        "def tau_C_UC(r_C_UC, M_UC):\n",
        "    # Element-wise handling for the condition r_C_UC <= 3\n",
        "    mask = np.where(r_C_UC > 3, 1, np.inf)\n",
        "    E_UC = np.where(r_C_UC > 3, (1 - 2 * M_UC / r_C_UC) / sqrt(1 - 3 * M_UC / r_C_UC), np.inf)\n",
        "    return (1 - 2 * M_UC / r_C_UC) * (2 * pi * sqrt(r_C_UC**3 / M_UC)) / E_UC * mask\n",
        "\n",
        "def RUC_f_UC(r_S_UC, r_C_UC, r_H_UC, M_UC):\n",
        "    tau_C = tau_C_UC(r_C_UC, M_UC)\n",
        "    tau_U = tau_U_UC(r_S_UC, r_H_UC, M_UC)\n",
        "\n",
        "    # Avoiding division by inf\n",
        "    RUC = np.where(tau_C == np.inf, np.inf, tau_U / tau_C)\n",
        "    return RUC\n",
        "\n",
        "# Function to update the UC plot\n",
        "def update_UC(r_C_i_UC, r_C_f_UC):\n",
        "    M_UC = 1\n",
        "    r_C_values_UC = np.linspace(r_C_i_UC, r_C_f_UC, 100)\n",
        "\n",
        "    # Calculate corresponding r_H values\n",
        "    r_H_values_UC = []\n",
        "    for r_C_value_UC in r_C_values_UC:\n",
        "        raiz_UC = fsolve(equacao_UC, r_C_value_UC * 3, args=(r_C_value_UC, M_UC))\n",
        "        r_H_values_UC.append(raiz_UC[0])\n",
        "    r_H_values_UC = np.array(r_H_values_UC)\n",
        "\n",
        "    r_S_values_UC = r_C_values_UC\n",
        "    RUC_init_UC = RUC_f_UC(r_S_values_UC, r_C_values_UC, r_H_values_UC, M_UC)\n",
        "\n",
        "    # Plotting\n",
        "    plt.figure(figsize=(8, 6))\n",
        "    plt.plot(r_C_values_UC, RUC_init_UC, label=r'$\\frac{\\Delta \\tau_{\\mathcal{U}} }{\\Delta \\tau_{\\mathcal{C}}}$')\n",
        "    plt.xlabel(r'$\\frac{r_{\\mathcal{C}}}{M}$', fontsize=15)\n",
        "    plt.ylabel(r'$\\frac{\\Delta \\tau_{\\mathcal{U}} }{\\Delta \\tau_{\\mathcal{C}}}$', fontsize=15)\n",
        "    plt.grid(True)\n",
        "    plt.legend()\n",
        "    plt.show()\n",
        "\n",
        "# Creating interactive widgets for input\n",
        "r_C_i_slider_uc = widgets.FloatText(value=3.0, description='r_C/M (initial)')\n",
        "r_C_f_slider_uc = widgets.FloatText(value=30.0, description='r_C/M (final)')\n",
        "\n",
        "# Linking sliders to the update function\n",
        "interactive_plot_uc = interact(update_UC, r_C_i_UC=r_C_i_slider_uc, r_C_f_UC=r_C_f_slider_uc)\n"
      ]
    },
    {
      "cell_type": "code",
      "execution_count": null,
      "id": "0e79a334",
      "metadata": {
        "id": "0e79a334"
      },
      "outputs": [],
      "source": []
    }
  ],
  "metadata": {
    "kernelspec": {
      "display_name": "Python 3 (ipykernel)",
      "language": "python",
      "name": "python3"
    },
    "language_info": {
      "codemirror_mode": {
        "name": "ipython",
        "version": 3
      },
      "file_extension": ".py",
      "mimetype": "text/x-python",
      "name": "python",
      "nbconvert_exporter": "python",
      "pygments_lexer": "ipython3",
      "version": "3.9.13"
    },
    "colab": {
      "provenance": [],
      "include_colab_link": true
    }
  },
  "nbformat": 4,
  "nbformat_minor": 5
}